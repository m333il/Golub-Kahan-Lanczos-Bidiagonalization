{
 "cells": [
  {
   "cell_type": "code",
   "execution_count": 23,
   "id": "d39f9cd9",
   "metadata": {},
   "outputs": [],
   "source": [
    "import numpy as np\n",
    "import matplotlib.pyplot as plt\n",
    "import os"
   ]
  },
  {
   "cell_type": "code",
   "execution_count": 24,
   "id": "c1cad719",
   "metadata": {},
   "outputs": [],
   "source": [
    "all_tests = {}\n",
    "all_times = {}"
   ]
  },
  {
   "cell_type": "code",
   "execution_count": 25,
   "id": "d35a1677",
   "metadata": {},
   "outputs": [],
   "source": [
    "#all_sizes = [128, 256, 512, 768, 1024, 1280, 1536, 1792, 2048, 2560, 2816,  3072, 3414, 3756, 4096]\n",
    "all_sizes = [64, 128, 256, 512, 1024, 2048]\n",
    "#all_sizes = [4]"
   ]
  },
  {
   "cell_type": "code",
   "execution_count": 38,
   "id": "e2d33437",
   "metadata": {},
   "outputs": [
    {
     "name": "stdout",
     "output_type": "stream",
     "text": [
      "Testing size:  64\n",
      "Test 1: \n",
      "Frob:  0.0009389290723428225\n",
      "0.000922648\n",
      "Test 2: \n",
      "Frob:  0.000943886674829338\n",
      "0.000515031\n",
      "Test 3: \n",
      "Frob:  0.0009411340189192275\n",
      "0.000513123\n",
      "\n",
      "\n",
      "Testing size:  128\n",
      "Test 1: \n",
      "Frob:  0.0020629995223485366\n",
      "0.004903919\n",
      "Test 2: \n",
      "Frob:  0.002058911451071231\n",
      "0.009454873\n",
      "Test 3: \n",
      "Frob:  0.0020605377297914533\n",
      "0.008869736\n",
      "\n",
      "\n",
      "Testing size:  256\n",
      "Test 1: \n",
      "Frob:  0.004299184796023639\n",
      "0.055604213\n",
      "Test 2: \n",
      "Frob:  0.004302138134013355\n",
      "0.067508877\n",
      "Test 3: \n",
      "Frob:  0.004312310493112109\n",
      "0.060236778\n",
      "\n",
      "\n",
      "Testing size:  512\n",
      "Test 1: \n",
      "Frob:  0.010892018312270092\n",
      "0.579050456\n",
      "Test 2: \n",
      "Frob:  0.011039169545197406\n",
      "0.635003117\n",
      "Test 3: \n",
      "Frob:  0.010809780084887562\n",
      "0.656854456\n",
      "\n",
      "\n",
      "Testing size:  1024\n",
      "Test 1: \n",
      "Frob:  0.015814981078122518\n",
      "15.187324904\n",
      "Test 2: \n",
      "Frob:  0.015913900054757256\n",
      "10.194827118\n",
      "Test 3: \n",
      "Frob:  0.01587760026771931\n",
      "9.386926318\n",
      "\n",
      "\n",
      "Testing size:  2048\n",
      "Test 1: \n",
      "Frob:  0.028829966858924642\n",
      "212.009921936\n",
      "Test 2: \n"
     ]
    },
    {
     "ename": "",
     "evalue": "",
     "output_type": "error",
     "traceback": [
      "\u001b[1;31mThe Kernel crashed while executing code in the the current cell or a previous cell. Please review the code in the cell(s) to identify a possible cause of the failure. Click <a href='https://aka.ms/vscodeJupyterKernelCrash'>here</a> for more info. View Jupyter <a href='command:jupyter.viewOutput'>log</a> for further details."
     ]
    },
    {
     "ename": "",
     "evalue": "",
     "output_type": "error",
     "traceback": [
      "\u001b[1;31mCanceled future for execute_request message before replies were done"
     ]
    }
   ],
   "source": [
    "for n in all_sizes:\n",
    "    print(\"Testing size: \", n)\n",
    "    all_times[n] = []\n",
    "    a = -10\n",
    "    b = 10\n",
    "    tests = []\n",
    "    for w in range(3):\n",
    "        print(f'Test {w + 1}: ')\n",
    "        tests.append(np.random.random((n, n)) * (b - a) + a)\n",
    "        my_file = open(\"test.txt\", \"w\")\n",
    "        for i in range(n):\n",
    "            for j in range(n):\n",
    "                my_file.write(str(tests[w][i][j]) + \" \")\n",
    "        my_file.close()\n",
    "        \n",
    "        os.system(f'./main {n}')\n",
    "        \n",
    "        numbers = open('res_test.txt','r').read().split()\n",
    "        Anumbers = list(map(float, numbers[: n * n]))\n",
    "        Unumbers = list(map(float, numbers[n * n : 2 * n * n]))\n",
    "        Vnumbers = list(map(float, numbers[2 * n * n : 3 * n * n]))\n",
    "        Bnumbers = list(map(float, numbers[3 * n * n : 4 * n * n]))\n",
    "        A = np.array(Anumbers).reshape(n, n)\n",
    "        U = np.array(Unumbers).reshape(n, n)\n",
    "        V = np.array(Vnumbers).reshape(n, n)\n",
    "        B = np.array(Bnumbers).reshape(n, n)\n",
    "        '''\n",
    "        print(A)\n",
    "        print()\n",
    "        print(V)\n",
    "        print()\n",
    "        print(U)\n",
    "        print()\n",
    "        print(B)\n",
    "        print()\n",
    "        print(A @ V)\n",
    "        print()\n",
    "        print(U @ B)\n",
    "        '''\n",
    "        time = numbers[4 * n * n]\n",
    "        \n",
    "        print(\"Frob: \", np.linalg.norm(A @ V - U @ B))\n",
    "        print(int(time) / 1000000000)\n",
    "        all_times[n].append(time)\n",
    "    print(\"\\n\")\n",
    "        \n",
    "    all_tests[n] = tests\n",
    "        \n",
    "        "
   ]
  },
  {
   "cell_type": "code",
   "execution_count": 17,
   "id": "9483f50a",
   "metadata": {},
   "outputs": [],
   "source": [
    "all_times = {\n",
    "    64 : [3946084, 4202051, 2283507],\n",
    "    128 : [21198393, 17488742, 17247967],\n",
    "    256 : [188818009, 254649590, 186250291],\n",
    "    512 : [1900671553, 1841102398, 1681651837],\n",
    "    1024 : [15258008716, 15196214759, 15183231358],\n",
    "    2048 : [113480545109, 114161705067, 112555594873],\n",
    "}"
   ]
  },
  {
   "cell_type": "code",
   "execution_count": 31,
   "id": "68e64d98",
   "metadata": {},
   "outputs": [],
   "source": [
    "for i in all_times:\n",
    "    all_times[i] = [int(el) for el in all_times[i]]\n"
   ]
  },
  {
   "cell_type": "code",
   "execution_count": 32,
   "id": "2c7b8633",
   "metadata": {},
   "outputs": [
    {
     "data": {
      "text/plain": [
       "{64: [590812],\n",
       " 128: [5000786],\n",
       " 256: [61127049],\n",
       " 512: [631061603],\n",
       " 1024: [10001929602],\n",
       " 2048: [212017575318]}"
      ]
     },
     "execution_count": 32,
     "metadata": {},
     "output_type": "execute_result"
    }
   ],
   "source": [
    "all_times"
   ]
  },
  {
   "cell_type": "code",
   "execution_count": 33,
   "id": "811e7210",
   "metadata": {},
   "outputs": [],
   "source": [
    "x = np.array(all_sizes)\n",
    "y = np.array([np.array(all_times[i]).mean() for i in all_sizes])"
   ]
  },
  {
   "cell_type": "code",
   "execution_count": 34,
   "id": "2c719e2e",
   "metadata": {},
   "outputs": [
    {
     "data": {
      "text/plain": [
       "array([  64,  128,  256,  512, 1024, 2048])"
      ]
     },
     "execution_count": 34,
     "metadata": {},
     "output_type": "execute_result"
    }
   ],
   "source": [
    "x"
   ]
  },
  {
   "cell_type": "code",
   "execution_count": 35,
   "id": "6c7068b6",
   "metadata": {},
   "outputs": [
    {
     "data": {
      "text/plain": [
       "array([5.9000000e-04, 5.0000000e-03, 6.1130000e-02, 6.3106000e-01,\n",
       "       1.0001930e+01, 2.1201758e+02])"
      ]
     },
     "execution_count": 35,
     "metadata": {},
     "output_type": "execute_result"
    }
   ],
   "source": [
    "y = y / 1000000000\n",
    "np.round(y, 5)"
   ]
  },
  {
   "cell_type": "code",
   "execution_count": 36,
   "id": "1704bab4",
   "metadata": {},
   "outputs": [
    {
     "data": {
      "text/plain": [
       "array([ -3.64604337,  -3.6003164 ,  -3.23450067,  -0.30797479,\n",
       "        23.10423221, 210.4018882 ])"
      ]
     },
     "execution_count": 36,
     "metadata": {},
     "output_type": "execute_result"
    }
   ],
   "source": [
    "from sklearn.preprocessing import PolynomialFeatures\n",
    "from sklearn.linear_model import LinearRegression\n",
    "poly_features = (x ** 3).reshape(-1, 1)\n",
    "poly_reg_model = LinearRegression()\n",
    "poly_reg_model.fit(poly_features, y)\n",
    "y_predicted = poly_reg_model.predict(poly_features)\n",
    "y_predicted"
   ]
  },
  {
   "cell_type": "code",
   "execution_count": 37,
   "id": "4c1bac5c",
   "metadata": {},
   "outputs": [
    {
     "name": "stdout",
     "output_type": "stream",
     "text": [
      "[2.49192193e-08]\n"
     ]
    },
    {
     "data": {
      "image/png": "[encoded data removed]",
      "text/plain": [
       "<Figure size 720x432 with 1 Axes>"
      ]
     },
     "metadata": {
      "needs_background": "light"
     },
     "output_type": "display_data"
    }
   ],
   "source": [
    "fig, ax = plt.subplots()\n",
    "fig.set_size_inches(10, 6)\n",
    "ax.scatter(x, y)\n",
    "ax.plot(x, y_predicted, color='green', label = 'n^3 (predicted)', alpha=0.7)\n",
    "ax.plot(x, y, color='blue', label = 'real', alpha=0.3)\n",
    "ax.grid()\n",
    "\n",
    "ax.set_xlabel('Matrix size')\n",
    "ax.set_ylabel('Time (seconds')\n",
    "ax.legend()\n",
    "plt.savefig('plot.png')\n",
    "print(poly_reg_model.coef_)"
   ]
  },
  {
   "cell_type": "code",
   "execution_count": null,
   "id": "3deb62d0",
   "metadata": {},
   "outputs": [],
   "source": []
  }
 ],
 "metadata": {
  "kernelspec": {
   "display_name": "Python 3 (ipykernel)",
   "language": "python",
   "name": "python3"
  },
  "language_info": {
   "codemirror_mode": {
    "name": "ipython",
    "version": 3
   },
   "file_extension": ".py",
   "mimetype": "text/x-python",
   "name": "python",
   "nbconvert_exporter": "python",
   "pygments_lexer": "ipython3",
   "version": "3.8.8"
  },
  "vscode": {
   "interpreter": {
    "hash": "635cacf90e2ebd933d69347cf5f0e366ac0738a02becbb069b8cf9e68d978af5"
   }
  }
 },
 "nbformat": 4,
 "nbformat_minor": 5
}
