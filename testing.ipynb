{
 "cells": [
  {
   "cell_type": "code",
   "execution_count": 27,
   "id": "d39f9cd9",
   "metadata": {},
   "outputs": [],
   "source": [
    "import numpy as np\n",
    "import matplotlib.pyplot as plt\n",
    "import os"
   ]
  },
  {
   "cell_type": "code",
   "execution_count": 28,
   "id": "c1cad719",
   "metadata": {},
   "outputs": [],
   "source": [
    "all_tests = {}\n",
    "all_times = {}"
   ]
  },
  {
   "cell_type": "code",
   "execution_count": 29,
   "id": "d35a1677",
   "metadata": {},
   "outputs": [],
   "source": [
    "all_sizes = [64, 128, 256, 512, 1024, 2048, 4096]"
   ]
  },
  {
   "cell_type": "code",
   "execution_count": 30,
   "id": "e2d33437",
   "metadata": {},
   "outputs": [
    {
     "name": "stdout",
     "output_type": "stream",
     "text": [
      "Testing size:  64\n",
      "Test 1: \n",
      "Starting algorithm\n",
      "Finished algorithm\n",
      "1\n",
      "2\n",
      "3\n",
      "4\n",
      "5\n",
      "Frob:  0.0009316219335388278\n",
      "0.000356522\n",
      "Test 2: \n",
      "Starting algorithm\n",
      "Finished algorithm\n",
      "1\n",
      "2\n",
      "3\n",
      "4\n",
      "5\n",
      "Frob:  0.0009105284176905344\n",
      "0.00024703\n",
      "Test 3: \n",
      "Starting algorithm\n",
      "Finished algorithm\n",
      "1\n",
      "2\n",
      "3\n",
      "4\n",
      "5\n",
      "Frob:  0.0009549381042475151\n",
      "0.000249379\n",
      "\n",
      "\n",
      "Testing size:  128\n",
      "Test 1: \n",
      "Starting algorithm\n",
      "Finished algorithm\n",
      "1\n",
      "2\n",
      "3\n",
      "4\n",
      "5\n",
      "Frob:  0.0020260825271803612\n",
      "0.002232487\n",
      "Test 2: \n",
      "Starting algorithm\n",
      "Finished algorithm\n",
      "1\n",
      "2\n",
      "3\n",
      "4\n",
      "5\n",
      "Frob:  0.0020631902176331696\n",
      "0.003061705\n",
      "Test 3: \n",
      "Starting algorithm\n",
      "Finished algorithm\n",
      "1\n",
      "2\n",
      "3\n",
      "4\n",
      "5\n",
      "Frob:  0.002070635273038012\n",
      "0.002873431\n",
      "\n",
      "\n",
      "Testing size:  256\n",
      "Test 1: \n",
      "Starting algorithm\n",
      "Finished algorithm\n",
      "1\n",
      "2\n",
      "3\n",
      "4\n",
      "5\n",
      "Frob:  0.004390936188470179\n",
      "0.015857869\n",
      "Test 2: \n",
      "Starting algorithm\n",
      "Finished algorithm\n",
      "1\n",
      "2\n",
      "3\n",
      "4\n",
      "5\n",
      "Frob:  0.004230185987000084\n",
      "0.014491744\n",
      "Test 3: \n",
      "Starting algorithm\n",
      "Finished algorithm\n",
      "1\n",
      "2\n",
      "3\n",
      "4\n",
      "5\n",
      "Frob:  0.004421498940236532\n",
      "0.014474268\n",
      "\n",
      "\n",
      "Testing size:  512\n",
      "Test 1: \n",
      "Starting algorithm\n",
      "Finished algorithm\n",
      "1\n",
      "2\n",
      "3\n",
      "4\n",
      "5\n",
      "Frob:  0.010959766113289393\n",
      "0.119388028\n",
      "Test 2: \n",
      "Starting algorithm\n",
      "Finished algorithm\n",
      "1\n",
      "2\n",
      "3\n",
      "4\n",
      "5\n",
      "Frob:  0.01094522431942505\n",
      "0.120976429\n",
      "Test 3: \n",
      "Starting algorithm\n",
      "Finished algorithm\n",
      "1\n",
      "2\n",
      "3\n",
      "4\n",
      "5\n",
      "Frob:  0.010893296098982127\n",
      "0.127238694\n",
      "\n",
      "\n",
      "Testing size:  1024\n",
      "Test 1: \n",
      "Starting algorithm\n",
      "Finished algorithm\n",
      "1\n",
      "2\n",
      "3\n",
      "4\n",
      "5\n",
      "Frob:  0.01581964480503041\n",
      "1.160250807\n",
      "Test 2: \n",
      "Starting algorithm\n",
      "Finished algorithm\n",
      "1\n",
      "2\n",
      "3\n",
      "4\n",
      "5\n",
      "Frob:  0.016107987412801863\n",
      "1.132273099\n",
      "Test 3: \n",
      "Starting algorithm\n",
      "Finished algorithm\n",
      "1\n",
      "2\n",
      "3\n",
      "4\n",
      "5\n",
      "Frob:  0.015793615620648817\n",
      "1.138559058\n",
      "\n",
      "\n",
      "Testing size:  2048\n",
      "Test 1: \n",
      "Starting algorithm\n",
      "Finished algorithm\n",
      "1\n",
      "2\n",
      "3\n",
      "4\n",
      "5\n",
      "Frob:  0.028735408106856444\n",
      "9.455310181\n",
      "Test 2: \n",
      "Starting algorithm\n",
      "Finished algorithm\n",
      "1\n",
      "2\n",
      "3\n",
      "4\n",
      "5\n",
      "Frob:  0.02871587606706299\n",
      "9.283904635\n",
      "Test 3: \n",
      "Starting algorithm\n",
      "Finished algorithm\n",
      "1\n",
      "2\n",
      "3\n",
      "4\n",
      "5\n",
      "Frob:  0.028696185316218176\n",
      "9.258098237\n",
      "\n",
      "\n",
      "Testing size:  4096\n",
      "Test 1: \n",
      "Starting algorithm\n",
      "Finished algorithm\n",
      "1\n",
      "2\n",
      "3\n",
      "4\n",
      "5\n",
      "Frob:  0.06121023765977895\n",
      "74.427581196\n",
      "Test 2: \n",
      "Starting algorithm\n",
      "Finished algorithm\n",
      "1\n",
      "2\n",
      "3\n",
      "4\n",
      "5\n",
      "Frob:  0.061292102269926665\n",
      "75.519023515\n",
      "Test 3: \n",
      "Starting algorithm\n",
      "Finished algorithm\n",
      "1\n",
      "2\n",
      "3\n",
      "4\n",
      "5\n",
      "Frob:  0.061198573092061774\n",
      "74.087756597\n",
      "\n",
      "\n"
     ]
    }
   ],
   "source": [
    "for n in all_sizes:\n",
    "    print(\"Testing size: \", n)\n",
    "    all_times[n] = []\n",
    "    a = -10\n",
    "    b = 10\n",
    "    tests = []\n",
    "    for w in range(3):\n",
    "        print(f'Test {w + 1}: ')\n",
    "        tests.append(np.random.random((n, n)) * (b - a) + a)\n",
    "        my_file = open(\"test.txt\", \"w\")\n",
    "        for i in range(n):\n",
    "            for j in range(n):\n",
    "                my_file.write(str(tests[w][i][j]) + \" \")\n",
    "        my_file.close()\n",
    "        \n",
    "        print('Starting algorithm')\n",
    "        os.system(f'./main {n}')\n",
    "        print('Finished algorithm')\n",
    "        \n",
    "        A = np.loadtxt('A.txt')\n",
    "        U = np.loadtxt('U.txt')\n",
    "        V = np.loadtxt('V.txt')\n",
    "        B = np.loadtxt('B.txt')\n",
    "        time = int(open('Time.txt').readline())\n",
    "        print(\"Frob: \", np.linalg.norm(A @ V - U @ B))\n",
    "        print(time / 1000000000)\n",
    "        all_times[n].append(time)\n",
    "    print(\"\\n\")\n",
    "        \n",
    "    all_tests[n] = tests\n",
    "        \n",
    "        "
   ]
  },
  {
   "cell_type": "code",
   "execution_count": 31,
   "id": "9db2d18b",
   "metadata": {},
   "outputs": [
    {
     "data": {
      "text/plain": [
       "{64: [356522, 247030, 249379],\n",
       " 128: [2232487, 3061705, 2873431],\n",
       " 256: [15857869, 14491744, 14474268],\n",
       " 512: [119388028, 120976429, 127238694],\n",
       " 1024: [1160250807, 1132273099, 1138559058],\n",
       " 2048: [9455310181, 9283904635, 9258098237],\n",
       " 4096: [74427581196, 75519023515, 74087756597]}"
      ]
     },
     "execution_count": 31,
     "metadata": {},
     "output_type": "execute_result"
    }
   ],
   "source": [
    "all_times"
   ]
  },
  {
   "cell_type": "code",
   "execution_count": 32,
   "id": "811e7210",
   "metadata": {},
   "outputs": [],
   "source": [
    "x = np.array(all_sizes)\n",
    "y = np.array([np.array(all_times[i]).mean() for i in all_sizes])"
   ]
  },
  {
   "cell_type": "code",
   "execution_count": 33,
   "id": "890849b6",
   "metadata": {},
   "outputs": [
    {
     "data": {
      "text/plain": [
       "array([2.800000e-04, 2.720000e-03, 1.494000e-02, 1.225300e-01,\n",
       "       1.143690e+00, 9.332440e+00, 7.467812e+01])"
      ]
     },
     "execution_count": 33,
     "metadata": {},
     "output_type": "execute_result"
    }
   ],
   "source": [
    "y = y / 1000000000\n",
    "np.round(y, 5)"
   ]
  },
  {
   "cell_type": "code",
   "execution_count": 34,
   "id": "1704bab4",
   "metadata": {},
   "outputs": [
    {
     "data": {
      "text/plain": [
       "array([-8.61581811e-03, -6.62144814e-03,  9.33351157e-03,  1.36973189e-01,\n",
       "        1.15809061e+00,  9.32702998e+00,  7.46785449e+01])"
      ]
     },
     "execution_count": 34,
     "metadata": {},
     "output_type": "execute_result"
    }
   ],
   "source": [
    "from sklearn.preprocessing import PolynomialFeatures\n",
    "from sklearn.linear_model import LinearRegression\n",
    "poly_features = (x ** 3).reshape(-1, 1)\n",
    "poly_reg_model = LinearRegression()\n",
    "poly_reg_model.fit(poly_features, y)\n",
    "y_predicted = poly_reg_model.predict(poly_features)\n",
    "y_predicted"
   ]
  },
  {
   "cell_type": "code",
   "execution_count": 35,
   "id": "4c1bac5c",
   "metadata": {},
   "outputs": [
    {
     "name": "stdout",
     "output_type": "stream",
     "text": [
      "[1.08684538e-09]\n"
     ]
    },
    {
     "data": {
      "image/png": "[encoded data removed]",
      "text/plain": [
       "<Figure size 720x432 with 1 Axes>"
      ]
     },
     "metadata": {
      "needs_background": "light"
     },
     "output_type": "display_data"
    }
   ],
   "source": [
    "fig, ax = plt.subplots()\n",
    "fig.set_size_inches(10, 6)\n",
    "ax.scatter(x, y)\n",
    "ax.plot(x, y_predicted, color='green', label = 'n^3 (predicted)', alpha=0.7)\n",
    "ax.plot(x, y, color='blue', label = 'real', alpha=0.3)\n",
    "ax.grid()\n",
    "\n",
    "ax.set_xlabel('Matrix size')\n",
    "ax.set_ylabel('Time (seconds')\n",
    "ax.legend()\n",
    "plt.savefig('plot.png')\n",
    "print(poly_reg_model.coef_)"
   ]
  },
  {
   "cell_type": "code",
   "execution_count": null,
   "id": "3deb62d0",
   "metadata": {},
   "outputs": [],
   "source": []
  }
 ],
 "metadata": {
  "kernelspec": {
   "display_name": "Python 3 (ipykernel)",
   "language": "python",
   "name": "python3"
  },
  "language_info": {
   "codemirror_mode": {
    "name": "ipython",
    "version": 3
   },
   "file_extension": ".py",
   "mimetype": "text/x-python",
   "name": "python",
   "nbconvert_exporter": "python",
   "pygments_lexer": "ipython3",
   "version": "3.8.8"
  },
  "vscode": {
   "interpreter": {
    "hash": "635cacf90e2ebd933d69347cf5f0e366ac0738a02becbb069b8cf9e68d978af5"
   }
  }
 },
 "nbformat": 4,
 "nbformat_minor": 5
}
